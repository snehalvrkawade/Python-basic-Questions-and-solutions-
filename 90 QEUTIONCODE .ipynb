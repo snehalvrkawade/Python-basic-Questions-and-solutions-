{
 "cells": [
  {
   "cell_type": "markdown",
   "id": "207c90b8",
   "metadata": {},
   "source": [
    "# Q1.#Find the Second Largest Number"
   ]
  },
  {
   "cell_type": "code",
   "execution_count": 4,
   "id": "4178b02e",
   "metadata": {},
   "outputs": [
    {
     "name": "stdout",
     "output_type": "stream",
     "text": [
      "Second largest number is 8\n"
     ]
    }
   ],
   "source": [
    "def find_second_largest(nums):\n",
    "    largest = second_largest = float('-inf')\n",
    "\n",
    "    for num in nums:\n",
    "        if num > largest:\n",
    "            second_largest = largest\n",
    "            largest = num\n",
    "        elif largest > num > second_largest:\n",
    "            second_largest = num\n",
    "\n",
    "    return second_largest\n",
    "\n",
    "numbers = [1, 2, 9, 8, 7, 6, 5, 4, 3]\n",
    "result = find_second_largest(numbers)\n",
    "print(f\"Second largest number is {result}\")\n"
   ]
  },
  {
   "cell_type": "code",
   "execution_count": 5,
   "id": "4e3fdd69",
   "metadata": {},
   "outputs": [
    {
     "name": "stdout",
     "output_type": "stream",
     "text": [
      "Second largest number is 19\n"
     ]
    }
   ],
   "source": [
    "numbers = [1, 2, 9, 8, 17, 18, 19, 63]\n",
    "\n",
    "if len(numbers) < 2:\n",
    "    print(\"List should contain at least 2 elements\")\n",
    "else:\n",
    "    largest = second_largest = float('-inf')\n",
    "    for num in numbers:\n",
    "        if num > largest:\n",
    "            second_largest = largest\n",
    "            largest = num\n",
    "        elif largest > num > second_largest:\n",
    "            second_largest = num\n",
    "\n",
    "    print(f\"Second largest number is {second_largest}\")\n"
   ]
  },
  {
   "cell_type": "code",
   "execution_count": 1,
   "id": "ff213daf",
   "metadata": {},
   "outputs": [
    {
     "name": "stdout",
     "output_type": "stream",
     "text": [
      "Second largest number is 63\n"
     ]
    }
   ],
   "source": [
    "list1 = [1, 2, 9, 8, 17, 18, 19, 63, 47, 98, 63, 45]\n",
    "\n",
    "# Remove duplicates by converting the list to a set and back to a list\n",
    "list1 = list(set(list1))\n",
    "\n",
    "# Check if there are at least two distinct numbers left\n",
    "if len(list1) < 2:\n",
    "    print(\"Not enough numbers to find the second largest.\")\n",
    "else:\n",
    "    # Remove the largest number\n",
    "    list1.remove(max(list1))\n",
    "    \n",
    "    # Sort the remaining list\n",
    "    list1.sort()\n",
    "\n",
    "    # Print the second largest number\n",
    "    print(f\"Second largest number is {list1[-1]}\")\n"
   ]
  },
  {
   "cell_type": "markdown",
   "id": "dfeef03d",
   "metadata": {},
   "source": [
    "# Q2: Write a Python Program to Check if a String is Palindrome"
   ]
  },
  {
   "cell_type": "code",
   "execution_count": 2,
   "id": "23b4d2fd",
   "metadata": {},
   "outputs": [
    {
     "name": "stdout",
     "output_type": "stream",
     "text": [
      "Enter the string: ssnehtealljn hjgg\n",
      "ssnehtealljn hjgg is not a palindrome\n"
     ]
    }
   ],
   "source": [
    "str1 = input(\"Enter the string: \")\n",
    "\n",
    "if str1 == str1[::-1]:\n",
    "    print(f\"{str1} is a palindrome\")\n",
    "else:\n",
    "    print(f\"{str1} is not a palindrome\")\n"
   ]
  },
  {
   "cell_type": "code",
   "execution_count": 3,
   "id": "787cd8e9",
   "metadata": {},
   "outputs": [
    {
     "name": "stdout",
     "output_type": "stream",
     "text": [
      "Enter the string: satis\n",
      "satis is not a palindrome\n"
     ]
    }
   ],
   "source": [
    "str1 = input(\"Enter the string: \")\n",
    "new_str = \"\"\n",
    "\n",
    "for char in str1:\n",
    "    new_str = char + new_str  # Reverse the string manually\n",
    "\n",
    "if str1 == new_str:\n",
    "    print(f\"{str1} is a palindrome\")\n",
    "else:\n",
    "    print(f\"{str1} is not a palindrome\")\n",
    "\n",
    "    "
   ]
  },
  {
   "cell_type": "markdown",
   "id": "e1829533",
   "metadata": {},
   "source": [
    "# Q3: Write a Python Program to Check Armstrong Number"
   ]
  },
  {
   "cell_type": "code",
   "execution_count": 4,
   "id": "58aa0ae6",
   "metadata": {},
   "outputs": [
    {
     "name": "stdout",
     "output_type": "stream",
     "text": [
      "Enter the number: 2\n",
      "2 is not an Armstrong number\n"
     ]
    }
   ],
   "source": [
    "num = int(input(\"Enter the number: \"))\n",
    "sum_of_cubes = 0\n",
    "temp = num\n",
    "\n",
    "while temp > 0:\n",
    "    digit = temp % 10\n",
    "    sum_of_cubes += digit ** 3\n",
    "    temp //= 10\n",
    "\n",
    "if sum_of_cubes == num:\n",
    "    print(f\"{num} is an Armstrong number\")\n",
    "else:\n",
    "    print(f\"{num} is not an Armstrong number\")\n"
   ]
  },
  {
   "cell_type": "markdown",
   "id": "46e41628",
   "metadata": {},
   "source": [
    "limit = int(input(\"Enter the limit: \"))\n",
    "armstrong_nums = []\n",
    "\n",
    "for num in range(limit + 1):\n",
    "    sum_of_cubes = 0\n",
    "    temp = num\n",
    "    while temp > 0:\n",
    "        digit = temp % 10\n",
    "        sum_of_cubes += digit ** 3\n",
    "        temp //= 10\n",
    "    if sum_of_cubes == num:\n",
    "        armstrong_nums.append(num)\n",
    "\n",
    "print(f\"Armstrong numbers up to {limit} are: {armstrong_nums}\")\n"
   ]
  },
  {
   "cell_type": "code",
   "execution_count": 5,
   "id": "38990955",
   "metadata": {},
   "outputs": [
    {
     "name": "stdout",
     "output_type": "stream",
     "text": [
      "Enter the limit: 5\n",
      "Armstrong numbers up to 5 are: [0, 1]\n"
     ]
    }
   ],
   "source": [
    "limit = int(input(\"Enter the limit: \"))\n",
    "armstrong_nums = []\n",
    "\n",
    "for num in range(limit + 1):\n",
    "    sum_of_cubes = 0\n",
    "    temp = num\n",
    "    while temp > 0:\n",
    "        digit = temp % 10\n",
    "        sum_of_cubes += digit ** 3\n",
    "        temp //= 10\n",
    "    if sum_of_cubes == num:\n",
    "        armstrong_nums.append(num)\n",
    "\n",
    "print(f\"Armstrong numbers up to {limit} are: {armstrong_nums}\")\n"
   ]
  },
  {
   "cell_type": "markdown",
   "id": "2479b481",
   "metadata": {},
   "source": [
    "# Q4: Fibonacci Series"
   ]
  },
  {
   "cell_type": "code",
   "execution_count": 1,
   "id": "d62b5de1",
   "metadata": {},
   "outputs": [
    {
     "name": "stdout",
     "output_type": "stream",
     "text": [
      "Enter the number: 10\n",
      "Fibonacci Series up to 10: 0 1 1 2 3 5 8 "
     ]
    }
   ],
   "source": [
    "# Method 1: Iterative Fibonacci series\n",
    "num = int(input(\"Enter the number: \"))\n",
    "\n",
    "a, b = 0, 1\n",
    "if num < 0:\n",
    "    print(\"Please enter a positive number\")\n",
    "elif num == 0:\n",
    "    print(\"Fibonacci Series up to first term: 0\")\n",
    "else:\n",
    "    print(f\"Fibonacci Series up to {num}:\", end=\" \")\n",
    "    while a < num:\n",
    "        print(a, end=\" \")\n",
    "        a, b = b, a + b\n"
   ]
  },
  {
   "cell_type": "code",
   "execution_count": 2,
   "id": "d108575b",
   "metadata": {},
   "outputs": [
    {
     "name": "stdout",
     "output_type": "stream",
     "text": [
      "Enter the number: 10\n",
      "Fibonacci Series up to 10: 0 1 1 2 3 5 8 "
     ]
    }
   ],
   "source": [
    "def fibo(n):\n",
    "    a, b = 0, 1\n",
    "    print(f\"Fibonacci Series up to {n}: \", end=\"\")\n",
    "    while a < n:\n",
    "        print(a, end=\" \")\n",
    "        a, b = b, a + b\n",
    "\n",
    "n1 = int(input(\"Enter the number: \"))\n",
    "fibo(n1)\n"
   ]
  },
  {
   "cell_type": "markdown",
   "id": "79f21f76",
   "metadata": {},
   "source": [
    "# Q5: Factorial"
   ]
  },
  {
   "cell_type": "code",
   "execution_count": 3,
   "id": "cf9ed261",
   "metadata": {},
   "outputs": [
    {
     "name": "stdout",
     "output_type": "stream",
     "text": [
      "Enter the number: 5\n",
      "Factorial of 5 is 120\n"
     ]
    }
   ],
   "source": [
    "num = int(input(\"Enter the number: \"))\n",
    "fact = 1\n",
    "if num == 0:\n",
    "    fact = 1\n",
    "else:\n",
    "    for i in range(1, num + 1):\n",
    "        fact *= i\n",
    "print(f\"Factorial of {num} is {fact}\")\n"
   ]
  },
  {
   "cell_type": "code",
   "execution_count": 4,
   "id": "66e2cc6b",
   "metadata": {},
   "outputs": [
    {
     "name": "stdout",
     "output_type": "stream",
     "text": [
      "Enter the number: 5\n",
      "Factorial of 5 is 120\n"
     ]
    }
   ],
   "source": [
    "def fact(n):\n",
    "    if n == 0 or n == 1:\n",
    "        return 1\n",
    "    return n * fact(n - 1)\n",
    "\n",
    "n1 = int(input(\"Enter the number: \"))\n",
    "print(f\"Factorial of {n1} is {fact(n1)}\")\n"
   ]
  },
  {
   "cell_type": "markdown",
   "id": "26295f37",
   "metadata": {},
   "source": [
    "# Q6: Prime Number Check"
   ]
  },
  {
   "cell_type": "code",
   "execution_count": 5,
   "id": "4219f12f",
   "metadata": {},
   "outputs": [
    {
     "name": "stdout",
     "output_type": "stream",
     "text": [
      "Enter the number: 11\n",
      "11 is a prime number\n"
     ]
    }
   ],
   "source": [
    "num = int(input(\"Enter the number: \"))\n",
    "for n in range(2, num):\n",
    "    if num % n == 0:\n",
    "        print(f\"{num} is not a prime number\")\n",
    "        break\n",
    "else:\n",
    "    print(f\"{num} is a prime number\")\n"
   ]
  },
  {
   "cell_type": "code",
   "execution_count": 6,
   "id": "d0e86ba7",
   "metadata": {},
   "outputs": [
    {
     "name": "stdout",
     "output_type": "stream",
     "text": [
      "Enter the number: 10\n",
      "10 is a composite number\n"
     ]
    }
   ],
   "source": [
    "num = int(input(\"Enter the number: \"))\n",
    "is_composite = 0\n",
    "for i in range(2, num):\n",
    "    if num % i == 0:\n",
    "        is_composite = 1\n",
    "        break\n",
    "if is_composite == 1:\n",
    "    print(f\"{num} is a composite number\")\n",
    "else:\n",
    "    print(f\"{num} is a prime number\")\n"
   ]
  },
  {
   "cell_type": "markdown",
   "id": "fc0872d1",
   "metadata": {},
   "source": [
    "# Q7: Even or Odd Check"
   ]
  },
  {
   "cell_type": "code",
   "execution_count": 7,
   "id": "57bf4869",
   "metadata": {},
   "outputs": [
    {
     "name": "stdout",
     "output_type": "stream",
     "text": [
      "Enter the starting number (m): 1\n",
      "Enter the ending number (n): 4\n",
      "1 is an odd number\n",
      "2 is an even number\n",
      "3 is an odd number\n"
     ]
    }
   ],
   "source": [
    "m = int(input(\"Enter the starting number (m): \"))\n",
    "n = int(input(\"Enter the ending number (n): \"))\n",
    "for i in range(m, n):\n",
    "    if i % 2 == 0:\n",
    "        print(f\"{i} is an even number\")\n",
    "    else:\n",
    "        print(f\"{i} is an odd number\")\n"
   ]
  },
  {
   "cell_type": "code",
   "execution_count": 8,
   "id": "fb022f87",
   "metadata": {},
   "outputs": [
    {
     "name": "stdout",
     "output_type": "stream",
     "text": [
      "Enter the number: 3\n",
      "3 is an odd number\n"
     ]
    }
   ],
   "source": [
    "num = int(input(\"Enter the number: \"))\n",
    "if num % 2 == 0:\n",
    "    print(f\"{num} is an even number\")\n",
    "else:\n",
    "    print(f\"{num} is an odd number\")\n"
   ]
  },
  {
   "cell_type": "markdown",
   "id": "ef1c54e2",
   "metadata": {},
   "source": [
    "# Q8: Quadratic Roots"
   ]
  },
  {
   "cell_type": "code",
   "execution_count": 10,
   "id": "d5488673",
   "metadata": {},
   "outputs": [
    {
     "name": "stdout",
     "output_type": "stream",
     "text": [
      "Enter the number1: 1\n",
      "Enter the number2: -3\n",
      "Enter the number3: 2\n",
      "Root1 = 2.0 and Root2 = 1.0\n"
     ]
    }
   ],
   "source": [
    "a = int(input(\"Enter the number1: \"))\n",
    "b = int(input(\"Enter the number2: \"))\n",
    "c = int(input(\"Enter the number3: \"))\n",
    "\n",
    "D = b**2 - 4*a*c\n",
    "deno = 2*a\n",
    "\n",
    "if D > 0:\n",
    "    root1 = (-b + D**0.5) / deno\n",
    "    root2 = (-b - D**0.5) / deno\n",
    "    print(f\"Root1 = {root1} and Root2 = {root2}\")\n",
    "elif D == 0:\n",
    "    root1 = -b / deno\n",
    "    print(f\"Root1 and Root2 = {root1}\")\n",
    "else:\n",
    "    print(\"Imaginary Roots\")\n"
   ]
  },
  {
   "cell_type": "markdown",
   "id": "6fa99a3a",
   "metadata": {},
   "source": [
    "# Q9: Reverse a String"
   ]
  },
  {
   "cell_type": "code",
   "execution_count": 11,
   "id": "7c0df542",
   "metadata": {},
   "outputs": [
    {
     "name": "stdout",
     "output_type": "stream",
     "text": [
      "Enter the string: snehal\n",
      "lahens\n"
     ]
    }
   ],
   "source": [
    "str1 = input(\"Enter the string: \")\n",
    "new_str = \"\"\n",
    "for char in str1:\n",
    "    new_str = char + new_str\n",
    "print(new_str)\n"
   ]
  },
  {
   "cell_type": "code",
   "execution_count": 12,
   "id": "3cf1445d",
   "metadata": {},
   "outputs": [
    {
     "name": "stdout",
     "output_type": "stream",
     "text": [
      "Enter the string: snehal\n",
      "lahens\n"
     ]
    }
   ],
   "source": [
    "str1 = input(\"Enter the string: \")\n",
    "new_str = \"\"\n",
    "i = len(str1) - 1\n",
    "while i >= 0:\n",
    "    new_str += str1[i]\n",
    "    i -= 1\n",
    "print(new_str)\n"
   ]
  },
  {
   "cell_type": "markdown",
   "id": "da5249b7",
   "metadata": {},
   "source": [
    "# Q10: Remove All Duplicates from a String"
   ]
  },
  {
   "cell_type": "code",
   "execution_count": 13,
   "id": "4cefe3c2",
   "metadata": {},
   "outputs": [
    {
     "name": "stdout",
     "output_type": "stream",
     "text": [
      "Enter the string: snesnehal\n",
      "snehal\n"
     ]
    }
   ],
   "source": [
    "str1 = input(\"Enter the string: \")\n",
    "new_str = \"\"\n",
    "for char in str1:\n",
    "    if char not in new_str:\n",
    "        new_str += char\n",
    "print(new_str)\n"
   ]
  },
  {
   "cell_type": "markdown",
   "id": "cf014f43",
   "metadata": {},
   "source": [
    "# Q11: Count Occurrences of Each Character in a String"
   ]
  },
  {
   "cell_type": "code",
   "execution_count": 16,
   "id": "16062b9a",
   "metadata": {},
   "outputs": [
    {
     "name": "stdout",
     "output_type": "stream",
     "text": [
      "Enter the string: snehal\n",
      "s is repeated 1 times\n",
      "h is repeated 1 times\n",
      "a is repeated 1 times\n",
      "l is repeated 1 times\n",
      "n is repeated 1 times\n",
      "e is repeated 1 times\n"
     ]
    }
   ],
   "source": [
    "str1 = input(\"Enter the string: \")\n",
    "for char in set(str1):\n",
    "    count = 0\n",
    "    for ch in str1:\n",
    "        if char == ch:\n",
    "            count += 1\n",
    "    print(f\"{char} is repeated {count} times\")\n"
   ]
  },
  {
   "cell_type": "markdown",
   "id": "f8148183",
   "metadata": {},
   "source": [
    "# Q12: Count Occurrences of Specified Character in a String"
   ]
  },
  {
   "cell_type": "code",
   "execution_count": 15,
   "id": "c8343aae",
   "metadata": {},
   "outputs": [
    {
     "name": "stdout",
     "output_type": "stream",
     "text": [
      "Enter the string: snehal\n",
      "Enter the character to be searched: n\n",
      "n is repeated 1 times\n"
     ]
    }
   ],
   "source": [
    "str1 = input(\"Enter the string: \")\n",
    "ch = input(\"Enter the character to be searched: \")\n",
    "count = 0\n",
    "for char in str1:\n",
    "    if char == ch:\n",
    "        count += 1\n",
    "print(f\"{ch} is repeated {count} times\")\n"
   ]
  },
  {
   "cell_type": "markdown",
   "id": "efd743bc",
   "metadata": {},
   "source": [
    "# Q13: Count Occurrences of a Word in a String\n"
   ]
  },
  {
   "cell_type": "code",
   "execution_count": 18,
   "id": "5ba9cea6",
   "metadata": {},
   "outputs": [
    {
     "name": "stdout",
     "output_type": "stream",
     "text": [
      "Enter the string: snehal raju kawade sanket raju kawade\n",
      "Enter the word to be searched: raju\n",
      "raju is repeated 2 times in the string\n"
     ]
    }
   ],
   "source": [
    "str1 = input(\"Enter the string: \")\n",
    "word = input(\"Enter the word to be searched: \")\n",
    "words = str1.split()\n",
    "count = 0\n",
    "for w in words:\n",
    "    if w == word:\n",
    "        count += 1\n",
    "print(f\"{word} is repeated {count} times in the string\")\n"
   ]
  },
  {
   "cell_type": "markdown",
   "id": "924e30c0",
   "metadata": {},
   "source": [
    "# Q14: Find Index and Count of Character in String"
   ]
  },
  {
   "cell_type": "code",
   "execution_count": 19,
   "id": "6fb534f3",
   "metadata": {},
   "outputs": [
    {
     "name": "stdout",
     "output_type": "stream",
     "text": [
      "Enter the string: snehal\n",
      "Enter the letter to be searched: s\n",
      "s is present at index 0\n",
      "s is repeated 1 times\n"
     ]
    }
   ],
   "source": [
    "str1 = input(\"Enter the string: \")\n",
    "char = input(\"Enter the letter to be searched: \")\n",
    "count = 0\n",
    "for i in range(len(str1)):\n",
    "    if str1[i] == char:\n",
    "        print(f\"{char} is present at index {i}\")\n",
    "        count += 1\n",
    "print(f\"{char} is repeated {count} times\")\n"
   ]
  },
  {
   "cell_type": "markdown",
   "id": "2ffc024d",
   "metadata": {},
   "source": [
    "# Q15: Find First Occurring Character in String"
   ]
  },
  {
   "cell_type": "code",
   "execution_count": 20,
   "id": "3cd2d3c7",
   "metadata": {},
   "outputs": [
    {
     "name": "stdout",
     "output_type": "stream",
     "text": [
      "Enter the string: snehal\n",
      "Enter the character to be searched: e\n",
      "e is present at index 2\n"
     ]
    }
   ],
   "source": [
    "str1 = input(\"Enter the string: \")\n",
    "ch = input(\"Enter the character to be searched: \")\n",
    "index = -1\n",
    "for i in range(len(str1)):\n",
    "    if str1[i] == ch:\n",
    "        index = i\n",
    "        break\n",
    "if index != -1:\n",
    "    print(f\"{ch} is present at index {index}\")\n",
    "else:\n",
    "    print(f\"{ch} is not present\")\n"
   ]
  },
  {
   "cell_type": "markdown",
   "id": "ddb7cbd5",
   "metadata": {},
   "source": [
    "# Q16: Count Occurrences of Element Occurring More Than One Time in the List"
   ]
  },
  {
   "cell_type": "code",
   "execution_count": 21,
   "id": "e7ca542a",
   "metadata": {},
   "outputs": [
    {
     "name": "stdout",
     "output_type": "stream",
     "text": [
      "The number 1 is repeated 3 times\n",
      "The number 2 is repeated 5 times\n",
      "The number 3 is repeated 3 times\n",
      "The number 4 is repeated 2 times\n",
      "The number 5 is repeated 5 times\n",
      "The number 6 is repeated 2 times\n"
     ]
    }
   ],
   "source": [
    "list1 = [1, 2, 3, 4, 5, 6, 9, 7, 8, 2, 5, 3, 6, 4, 1, 2, 5, 3, 2, 1, 5, 2, 5]\n",
    "for num in set(list1):\n",
    "    if list1.count(num) > 1:\n",
    "        print(f\"The number {num} is repeated {list1.count(num)} times\")\n"
   ]
  },
  {
   "cell_type": "markdown",
   "id": "e1677625",
   "metadata": {},
   "source": [
    "# Q17: Print Index of Particular Value in List and Count the Number of Times It Repeats"
   ]
  },
  {
   "cell_type": "code",
   "execution_count": 23,
   "id": "0fee833f",
   "metadata": {},
   "outputs": [
    {
     "name": "stdout",
     "output_type": "stream",
     "text": [
      "Enter the number to be searched: 5\n",
      "5 is present at index 4\n",
      "5 occurs 1 times in the list\n"
     ]
    }
   ],
   "source": [
    "list1 = [1, 2, 3, 4, 5, 6, 7, 8, 9, 1, 11, 12, 13, 45, 14, 12, 1, 0, 1, 0]\n",
    "num = int(input(\"Enter the number to be searched: \"))\n",
    "count = 0\n",
    "for i in range(len(list1)):\n",
    "    if list1[i] == num:\n",
    "        print(f\"{num} is present at index {i}\")\n",
    "        count += 1\n",
    "print(f\"{num} occurs {count} times in the list\")\n"
   ]
  },
  {
   "cell_type": "markdown",
   "id": "5cbc4ee7",
   "metadata": {},
   "source": [
    "# Q18: Remove Duplicates from a List and Create a New List with Unique Elements"
   ]
  },
  {
   "cell_type": "code",
   "execution_count": 24,
   "id": "7d35ac89",
   "metadata": {},
   "outputs": [
    {
     "name": "stdout",
     "output_type": "stream",
     "text": [
      "[1, 2, 3, 4, 5, 6, 7, 8, 9, 0]\n"
     ]
    }
   ],
   "source": [
    "list1 = [1, 2, 3, 4, 5, 6, 7, 8, 9, 0, 1, 2, 3, 4, 5, 6, 7, 8, 9]\n",
    "unique_list = []\n",
    "for i in list1:\n",
    "    if i not in unique_list:\n",
    "        unique_list.append(i)\n",
    "print(unique_list)\n"
   ]
  },
  {
   "cell_type": "markdown",
   "id": "dbf033a5",
   "metadata": {},
   "source": [
    "# Q19: Print Patterns"
   ]
  },
  {
   "cell_type": "code",
   "execution_count": 26,
   "id": "3b885e3b",
   "metadata": {},
   "outputs": [
    {
     "name": "stdout",
     "output_type": "stream",
     "text": [
      "1\n",
      "12\n",
      "123\n",
      "1234\n",
      "12345\n"
     ]
    }
   ],
   "source": [
    "for i in range(1, 6):\n",
    "    for j in range(1, i + 1):\n",
    "        print(j, end=\"\")\n",
    "    print()\n"
   ]
  },
  {
   "cell_type": "code",
   "execution_count": 27,
   "id": "99c40aa0",
   "metadata": {},
   "outputs": [
    {
     "name": "stdout",
     "output_type": "stream",
     "text": [
      "A\n",
      "AB\n",
      "ABC\n",
      "ABCD\n",
      "ABCDE\n"
     ]
    }
   ],
   "source": [
    "for i in range(1, 6):\n",
    "    ch = 'A'\n",
    "    for j in range(i):\n",
    "        print(ch, end=\"\")\n",
    "        ch = chr(ord(ch) + 1)\n",
    "    print()\n"
   ]
  },
  {
   "cell_type": "code",
   "execution_count": 28,
   "id": "2d1a1acc",
   "metadata": {},
   "outputs": [
    {
     "name": "stdout",
     "output_type": "stream",
     "text": [
      "*\n",
      "**\n",
      "***\n",
      "****\n",
      "*****\n"
     ]
    }
   ],
   "source": [
    "for i in range(1, 6):\n",
    "    for j in range(i):\n",
    "        print(\"*\", end=\"\")\n",
    "    print()\n"
   ]
  },
  {
   "cell_type": "markdown",
   "id": "c6559d1c",
   "metadata": {},
   "source": [
    "# Q20: Scan an Email Address and Form a Tuple of Username and Domain"
   ]
  },
  {
   "cell_type": "code",
   "execution_count": 29,
   "id": "9176b292",
   "metadata": {},
   "outputs": [
    {
     "name": "stdout",
     "output_type": "stream",
     "text": [
      "Username is abc\n",
      "Domain Name is gmail.com\n"
     ]
    }
   ],
   "source": [
    "addr = \"abc@gmail.com\"\n",
    "user_name, domain_name = addr.split('@')\n",
    "print(f\"Username is {user_name}\")\n",
    "print(f\"Domain Name is {domain_name}\")\n"
   ]
  },
  {
   "cell_type": "markdown",
   "id": "536f5801",
   "metadata": {},
   "source": [
    "# Q21: Create a List of Words by Combining Two Lists"
   ]
  },
  {
   "cell_type": "code",
   "execution_count": 31,
   "id": "b59382bf",
   "metadata": {},
   "outputs": [
    {
     "name": "stdout",
     "output_type": "stream",
     "text": [
      "['HelloPython', 'HelloProgramming', 'WorldPython', 'WorldProgramming']\n"
     ]
    }
   ],
   "source": [
    "list_words = []\n",
    "for x in ['Hello', 'World']:\n",
    "    for y in ['Python', 'Programming']:\n",
    "        word = x + y\n",
    "        list_words.append(word)\n",
    "print(list_words)\n"
   ]
  },
  {
   "cell_type": "code",
   "execution_count": 32,
   "id": "a98732a4",
   "metadata": {},
   "outputs": [
    {
     "name": "stdout",
     "output_type": "stream",
     "text": [
      "['HelloPython', 'HelloProgramming', 'WorldPython', 'WorldProgramming']\n"
     ]
    }
   ],
   "source": [
    "print([(x + y) for x in ['Hello', 'World'] for y in ['Python', 'Programming']])\n"
   ]
  },
  {
   "cell_type": "markdown",
   "id": "3c325d16",
   "metadata": {},
   "source": [
    "# Q22: Generate Abecedarian Series"
   ]
  },
  {
   "cell_type": "code",
   "execution_count": 33,
   "id": "162e7481",
   "metadata": {},
   "outputs": [
    {
     "name": "stdout",
     "output_type": "stream",
     "text": [
      "['A', 'B', 'C', 'D', 'E', 'F', 'G', 'H', 'I', 'J', 'K', 'L', 'M', 'N', 'O', 'P', 'Q', 'R', 'S', 'T', 'U', 'V', 'W', 'X', 'Y', 'Z']\n"
     ]
    }
   ],
   "source": [
    "import string\n",
    "\n",
    "# Generate Abecedarian series (A-Z)\n",
    "abecedarian_series = list(string.ascii_uppercase)\n",
    "print(abecedarian_series)\n"
   ]
  },
  {
   "cell_type": "markdown",
   "id": "3c3a80f2",
   "metadata": {},
   "source": [
    "# Q23: Convert String to Uppercase"
   ]
  },
  {
   "cell_type": "code",
   "execution_count": 34,
   "id": "f9eabe19",
   "metadata": {},
   "outputs": [
    {
     "name": "stdout",
     "output_type": "stream",
     "text": [
      "Enter the string: snehal kawade\n",
      "SNEHAL KAWADE\n"
     ]
    }
   ],
   "source": [
    "str1 = input(\"Enter the string: \")\n",
    "new_str1 = \"\"\n",
    "\n",
    "for char in str1:\n",
    "    if 'a' <= char <= 'z':\n",
    "        new_str1 += chr(ord(char) - 32)\n",
    "    else:\n",
    "        new_str1 += char\n",
    "\n",
    "print(new_str1)\n"
   ]
  },
  {
   "cell_type": "code",
   "execution_count": 35,
   "id": "cf3a7d18",
   "metadata": {},
   "outputs": [
    {
     "name": "stdout",
     "output_type": "stream",
     "text": [
      "Enter the string: snehal raju kawade\n",
      "SNEHAL RAJU KAWADE\n"
     ]
    }
   ],
   "source": [
    "str2 = input(\"Enter the string: \")\n",
    "print(str2.upper())\n"
   ]
  },
  {
   "cell_type": "markdown",
   "id": "1e1b7ca1",
   "metadata": {},
   "source": [
    "# Q24: Convert String to Lowercase\n"
   ]
  },
  {
   "cell_type": "code",
   "execution_count": 37,
   "id": "f0d2c5d8",
   "metadata": {},
   "outputs": [
    {
     "name": "stdout",
     "output_type": "stream",
     "text": [
      "Enter the string: snehal KAWADE\n",
      "snehal kawade\n"
     ]
    }
   ],
   "source": [
    "str1 = input(\"Enter the string: \")\n",
    "print(str1.lower())\n"
   ]
  },
  {
   "cell_type": "code",
   "execution_count": 38,
   "id": "fcd91d7c",
   "metadata": {},
   "outputs": [
    {
     "name": "stdout",
     "output_type": "stream",
     "text": [
      "Enter the string: SNEHAL KAWADE\n",
      "snehal kawade\n"
     ]
    }
   ],
   "source": [
    "str11 = input(\"Enter the string: \")\n",
    "new_str = \"\"\n",
    "\n",
    "for char in str11:\n",
    "    if 'A' <= char <= 'Z':\n",
    "        new_str += chr(ord(char) + 32)\n",
    "    else:\n",
    "        new_str += char\n",
    "\n",
    "print(new_str)\n"
   ]
  },
  {
   "cell_type": "markdown",
   "id": "01bcd85f",
   "metadata": {},
   "source": [
    "# Q25: Find Common Elements in Two Lists"
   ]
  },
  {
   "cell_type": "code",
   "execution_count": 39,
   "id": "2f5d65ee",
   "metadata": {},
   "outputs": [
    {
     "name": "stdout",
     "output_type": "stream",
     "text": [
      "[3, 5, 6, 8, 7]\n"
     ]
    }
   ],
   "source": [
    "list1 = [1, 2, 3, 4, 5, 6, 8, 7, 5]\n",
    "list2 = [9, 8, 9, 5, 8, 7, 6, 3, 5]\n",
    "\n",
    "common_list = []\n",
    "for num in list1:\n",
    "    if num in list2 and num not in common_list:\n",
    "        common_list.append(num)\n",
    "\n",
    "print(common_list)\n"
   ]
  },
  {
   "cell_type": "markdown",
   "id": "78250503",
   "metadata": {},
   "source": [
    "# Q26: Remove All Vowels from a String"
   ]
  },
  {
   "cell_type": "code",
   "execution_count": 40,
   "id": "a56cca31",
   "metadata": {},
   "outputs": [
    {
     "name": "stdout",
     "output_type": "stream",
     "text": [
      "Enter the string: snehal kawade\n",
      "snhl kwd\n"
     ]
    }
   ],
   "source": [
    "str1 = input(\"Enter the string: \")\n",
    "new_str = \"\"\n",
    "\n",
    "for char in str1:\n",
    "    if char not in \"aeiouAEIOU\":\n",
    "        new_str += char\n",
    "\n",
    "print(new_str)\n"
   ]
  },
  {
   "cell_type": "code",
   "execution_count": 41,
   "id": "79a85162",
   "metadata": {},
   "outputs": [
    {
     "name": "stdout",
     "output_type": "stream",
     "text": [
      "Enter the string: snehal kawade\n",
      "snhl kwd\n"
     ]
    }
   ],
   "source": [
    "str2 = input(\"Enter the string: \")\n",
    "vowels = \"AEIOUaeiou\"\n",
    "new_str = \"\"\n",
    "\n",
    "for char in str2:\n",
    "    if char not in vowels:\n",
    "        new_str += char\n",
    "\n",
    "print(new_str)\n"
   ]
  },
  {
   "cell_type": "markdown",
   "id": "55a1f099",
   "metadata": {},
   "source": [
    "# Q27: Print the Output of Elements from List"
   ]
  },
  {
   "cell_type": "code",
   "execution_count": 42,
   "id": "de75a98a",
   "metadata": {},
   "outputs": [
    {
     "name": "stdout",
     "output_type": "stream",
     "text": [
      "The number 1 is repeated 2 times\n",
      "The number 2 is repeated 5 times\n",
      "The number 4 is repeated 2 times\n",
      "The number 5 is repeated 2 times\n",
      "The number 6 is repeated 2 times\n",
      "The number 7 is repeated 2 times\n",
      "The number 8 is repeated 2 times\n",
      "The number 9 is repeated 2 times\n",
      "The number a is repeated 2 times\n"
     ]
    }
   ],
   "source": [
    "list1 = [1, 10, 9, 8, 7, 6, 5, 4, 3, 2, 2, 2, 2, 2, 1, 5, 9, 8, 7, 6, 4, 'a', 'a']\n",
    "count = 0\n",
    "for i in set(list1):\n",
    "    if list1.count(i) > 1:\n",
    "        print(f\"The number {i} is repeated {list1.count(i)} times\")\n"
   ]
  },
  {
   "cell_type": "code",
   "execution_count": 43,
   "id": "f064a9ee",
   "metadata": {},
   "outputs": [
    {
     "name": "stdout",
     "output_type": "stream",
     "text": [
      "1: 2\n",
      "10: 1\n",
      "9: 2\n",
      "8: 2\n",
      "7: 2\n",
      "6: 2\n",
      "5: 2\n",
      "4: 2\n",
      "3: 1\n",
      "2: 5\n",
      "a: 2\n"
     ]
    }
   ],
   "source": [
    "list1 = [1, 10, 9, 8, 7, 6, 5, 4, 3, 2, 2, 2, 2, 2, 1, 5, 9, 8, 7, 6, 4, 'a', 'a']\n",
    "count_dict = {}\n",
    "\n",
    "for item in list1:\n",
    "    if item in count_dict:\n",
    "        count_dict[item] += 1\n",
    "    else:\n",
    "        count_dict[item] = 1\n",
    "\n",
    "for item in count_dict:\n",
    "    print(f\"{item}: {count_dict[item]}\")\n"
   ]
  },
  {
   "cell_type": "markdown",
   "id": "c0e82ff3",
   "metadata": {},
   "source": [
    "# Q28: Calculate Student's Grade Based on Percentage"
   ]
  },
  {
   "cell_type": "code",
   "execution_count": 45,
   "id": "403eed2c",
   "metadata": {},
   "outputs": [
    {
     "name": "stdout",
     "output_type": "stream",
     "text": [
      "Enter the percent: 75\n",
      "Grade B\n"
     ]
    }
   ],
   "source": [
    "Percent = int(input(\"Enter the percent: \"))\n",
    "if Percent >= 80:\n",
    "    print(\"Grade A\")\n",
    "elif Percent >= 60:\n",
    "    print(\"Grade B\")\n",
    "elif Percent >= 50:\n",
    "    print(\"Grade C\")\n",
    "elif Percent >= 40:\n",
    "    print(\"Grade D\")\n",
    "else:\n",
    "    print(\"Grade F\")\n"
   ]
  },
  {
   "cell_type": "markdown",
   "id": "bb3b6742",
   "metadata": {},
   "source": [
    "# Q29: Function to Say Hi to a Name"
   ]
  },
  {
   "cell_type": "code",
   "execution_count": 47,
   "id": "ef714750",
   "metadata": {},
   "outputs": [
    {
     "name": "stdout",
     "output_type": "stream",
     "text": [
      "Hi, have fun snehal\n",
      "Hi, have fun snehal \n"
     ]
    }
   ],
   "source": [
    "def say_hi(name):\n",
    "    print(f\"Hi, have fun {name}\")\n",
    "\n",
    "say_hi('snehal')\n",
    "say_hi('snehal ')\n"
   ]
  },
  {
   "cell_type": "markdown",
   "id": "a9defa52",
   "metadata": {},
   "source": [
    "# Q30: Print the Output of Elements from Two Lists"
   ]
  },
  {
   "cell_type": "code",
   "execution_count": 50,
   "id": "0cc32f1c",
   "metadata": {},
   "outputs": [
    {
     "name": "stdout",
     "output_type": "stream",
     "text": [
      "['s', 'k', 'n', 'k', 'e', 'k', 'h', 'k', 'a', 'k', 'l', 'k']\n",
      "sknkekhkaklk\n"
     ]
    }
   ],
   "source": [
    "list1 = [\"snehal\"]\n",
    "list2 = ['kawade']\n",
    "\n",
    "str1 = list1[0]\n",
    "str2 = list2[0]\n",
    "\n",
    "new_1 = []\n",
    "for i in range(len(str1)):\n",
    "    for j in range(len(str2)):\n",
    "        new_1.append(str1[i])\n",
    "        new_1.append(str2[j])\n",
    "        break\n",
    "\n",
    "print(new_1)\n",
    "str3 = \"\".join(new_1)\n",
    "print(str3)\n"
   ]
  },
  {
   "cell_type": "code",
   "execution_count": 51,
   "id": "3abb9ee4",
   "metadata": {},
   "outputs": [
    {
     "name": "stdout",
     "output_type": "stream",
     "text": [
      "sknaewhaadle\n"
     ]
    }
   ],
   "source": [
    "list1 = [\"snehal\"]\n",
    "list2 = ['kawade']\n",
    "\n",
    "str1 = list1[0]\n",
    "str2 = list2[0]\n",
    "\n",
    "mixed_list = []\n",
    "min_length = min(len(str1), len(str2))\n",
    "\n",
    "for i in range(min_length):\n",
    "    mixed_list.append(str1[i])\n",
    "    mixed_list.append(str2[i])\n",
    "\n",
    "mixed_list.extend(str1[min_length:])\n",
    "mixed_list.extend(str2[min_length:])\n",
    "result_string = \"\".join(mixed_list)\n",
    "\n",
    "print(result_string)\n"
   ]
  },
  {
   "cell_type": "markdown",
   "id": "5ba4a37f",
   "metadata": {},
   "source": [
    "# Q31: Swap Two Numbers Without a Temporary Variable"
   ]
  },
  {
   "cell_type": "code",
   "execution_count": 53,
   "id": "1bafcf7d",
   "metadata": {},
   "outputs": [
    {
     "name": "stdout",
     "output_type": "stream",
     "text": [
      "Enter first number: 4\n",
      "Enter second number: 2\n",
      "After swapping: a = 2, b = 4\n"
     ]
    }
   ],
   "source": [
    "a = int(input(\"Enter first number: \"))\n",
    "b = int(input(\"Enter second number: \"))\n",
    "\n",
    "a = a + b\n",
    "b = a - b\n",
    "a = a - b\n",
    "\n",
    "print(f\"After swapping: a = {a}, b = {b}\")\n"
   ]
  },
  {
   "cell_type": "markdown",
   "id": "a3c7dd54",
   "metadata": {},
   "source": [
    "# Q32: Check Whether a Number is Prime or Not"
   ]
  },
  {
   "cell_type": "code",
   "execution_count": 54,
   "id": "e582deb6",
   "metadata": {},
   "outputs": [
    {
     "name": "stdout",
     "output_type": "stream",
     "text": [
      "Enter a number: 5\n",
      "5 is a prime number\n"
     ]
    }
   ],
   "source": [
    "num = int(input(\"Enter a number: \"))\n",
    "\n",
    "if num > 1:\n",
    "    for i in range(2, num):\n",
    "        if num % i == 0:\n",
    "            print(f\"{num} is not a prime number\")\n",
    "            break\n",
    "    else:\n",
    "        print(f\"{num} is a prime number\")\n",
    "else:\n",
    "    print(f\"{num} is not a prime number\")\n"
   ]
  },
  {
   "cell_type": "markdown",
   "id": "9b31b044",
   "metadata": {},
   "source": [
    "# Q33: Find the Factorial of a Number Using Recursion"
   ]
  },
  {
   "cell_type": "code",
   "execution_count": 57,
   "id": "b7aa7b74",
   "metadata": {},
   "outputs": [
    {
     "name": "stdout",
     "output_type": "stream",
     "text": [
      "Enter a number: 4\n",
      "The factorial of 4 is 24\n"
     ]
    }
   ],
   "source": [
    "def factorial(n):\n",
    "    if n == 0:\n",
    "        return 1\n",
    "    else:\n",
    "        return n * factorial(n-1)\n",
    "\n",
    "num = int(input(\"Enter a number: \"))\n",
    "result = factorial(num)\n",
    "print(f\"The factorial of {num} is {result}\")\n"
   ]
  },
  {
   "cell_type": "markdown",
   "id": "8ad34074",
   "metadata": {},
   "source": [
    "# Q34: Generate Fibonacci Series up to Nth Term"
   ]
  },
  {
   "cell_type": "code",
   "execution_count": 60,
   "id": "f78450d7",
   "metadata": {},
   "outputs": [
    {
     "name": "stdout",
     "output_type": "stream",
     "text": [
      "Enter the number of terms: 3\n",
      "Fibonacci Series up to 3 terms:\n",
      "0 1 1 "
     ]
    }
   ],
   "source": [
    "n = int(input(\"Enter the number of terms: \"))\n",
    "a, b = 0, 1\n",
    "\n",
    "print(f\"Fibonacci Series up to {n} terms:\")\n",
    "for i in range(n):\n",
    "    print(a, end=\" \")\n",
    "    a, b = b, a + b\n"
   ]
  },
  {
   "cell_type": "markdown",
   "id": "88682b64",
   "metadata": {},
   "source": [
    "# Q35: Reverse a String Without Using Built-in Functions"
   ]
  },
  {
   "cell_type": "code",
   "execution_count": 61,
   "id": "42676c42",
   "metadata": {},
   "outputs": [
    {
     "name": "stdout",
     "output_type": "stream",
     "text": [
      "Enter the string: snehal\n",
      "Reversed string: lahens\n"
     ]
    }
   ],
   "source": [
    "str1 = input(\"Enter the string: \")\n",
    "reversed_str = \"\"\n",
    "\n",
    "for char in str1:\n",
    "    reversed_str = char + reversed_str\n",
    "\n",
    "print(f\"Reversed string: {reversed_str}\")\n"
   ]
  },
  {
   "cell_type": "markdown",
   "id": "47148e94",
   "metadata": {},
   "source": [
    "# Q36: Count the Number of Vowels in a String\n",
    "\n"
   ]
  },
  {
   "cell_type": "code",
   "execution_count": 62,
   "id": "acdddb59",
   "metadata": {},
   "outputs": [
    {
     "name": "stdout",
     "output_type": "stream",
     "text": [
      "Enter the string: smehlalsj snehak\n",
      "The number of vowels in the string is 4\n"
     ]
    }
   ],
   "source": [
    "str1 = input(\"Enter the string: \")\n",
    "vowels = \"aeiouAEIOU\"\n",
    "count = 0\n",
    "\n",
    "for char in str1:\n",
    "    if char in vowels:\n",
    "        count += 1\n",
    "\n",
    "print(f\"The number of vowels in the string is {count}\")\n"
   ]
  },
  {
   "cell_type": "markdown",
   "id": "c437047f",
   "metadata": {},
   "source": [
    "# Q37: Check Whether a String is a Palindrome"
   ]
  },
  {
   "cell_type": "code",
   "execution_count": 63,
   "id": "f42bdca1",
   "metadata": {},
   "outputs": [
    {
     "name": "stdout",
     "output_type": "stream",
     "text": [
      "Enter the string: madam\n",
      "madam is a palindrome\n"
     ]
    }
   ],
   "source": [
    "str1 = input(\"Enter the string: \")\n",
    "if str1 == str1[::-1]:\n",
    "    print(f\"{str1} is a palindrome\")\n",
    "else:\n",
    "    print(f\"{str1} is not a palindrome\")\n"
   ]
  },
  {
   "cell_type": "markdown",
   "id": "36f01162",
   "metadata": {},
   "source": [
    "# Q38: Find the Largest and Smallest Element in a List"
   ]
  },
  {
   "cell_type": "code",
   "execution_count": 64,
   "id": "00d7fdf1",
   "metadata": {},
   "outputs": [
    {
     "name": "stdout",
     "output_type": "stream",
     "text": [
      "Enter numbers separated by space: 3 4 6 78\n",
      "Largest number is 78\n",
      "Smallest number is 3\n"
     ]
    }
   ],
   "source": [
    "numbers = list(map(int, input(\"Enter numbers separated by space: \").split()))\n",
    "\n",
    "print(f\"Largest number is {max(numbers)}\")\n",
    "print(f\"Smallest number is {min(numbers)}\")\n"
   ]
  },
  {
   "cell_type": "markdown",
   "id": "cf5f3ed8",
   "metadata": {},
   "source": [
    "# Q39: Create a Dictionary from Two Lists"
   ]
  },
  {
   "cell_type": "code",
   "execution_count": 65,
   "id": "ee9432c1",
   "metadata": {},
   "outputs": [
    {
     "name": "stdout",
     "output_type": "stream",
     "text": [
      "{'name': 'Alice', 'age': 25, 'gender': 'Female'}\n"
     ]
    }
   ],
   "source": [
    "keys = [\"name\", \"age\", \"gender\"]\n",
    "values = [\"Alice\", 25, \"Female\"]\n",
    "\n",
    "result_dict = dict(zip(keys, values))\n",
    "\n",
    "print(result_dict)\n"
   ]
  },
  {
   "cell_type": "markdown",
   "id": "316027b1",
   "metadata": {},
   "source": [
    "# Q40: Print the Multiplication Table of a Number"
   ]
  },
  {
   "cell_type": "code",
   "execution_count": 67,
   "id": "b4b76501",
   "metadata": {},
   "outputs": [
    {
     "name": "stdout",
     "output_type": "stream",
     "text": [
      "Enter the number: 5\n",
      "5 x 1 = 5\n",
      "5 x 2 = 10\n",
      "5 x 3 = 15\n",
      "5 x 4 = 20\n",
      "5 x 5 = 25\n",
      "5 x 6 = 30\n",
      "5 x 7 = 35\n",
      "5 x 8 = 40\n",
      "5 x 9 = 45\n",
      "5 x 10 = 50\n"
     ]
    }
   ],
   "source": [
    "num = int(input(\"Enter the number: \"))\n",
    "for i in range(1, 11):\n",
    "    print(f\"{num} x {i} = {num*i}\")\n"
   ]
  },
  {
   "cell_type": "markdown",
   "id": "76ba1aeb",
   "metadata": {},
   "source": [
    "# Q41: Find the Sum of Digits of a Number"
   ]
  },
  {
   "cell_type": "code",
   "execution_count": 68,
   "id": "1aa0ec15",
   "metadata": {},
   "outputs": [
    {
     "name": "stdout",
     "output_type": "stream",
     "text": [
      "Enter a number: 1234\n",
      "The sum of digits is 10\n"
     ]
    }
   ],
   "source": [
    "num = int(input(\"Enter a number: \"))\n",
    "sum_digits = 0\n",
    "\n",
    "while num > 0:\n",
    "    sum_digits += num % 10\n",
    "    num //= 10\n",
    "\n",
    "print(f\"The sum of digits is {sum_digits}\")\n"
   ]
  },
  {
   "cell_type": "markdown",
   "id": "506fd0f7",
   "metadata": {},
   "source": [
    "# Q42: Merge Two Lists and Sort the Result"
   ]
  },
  {
   "cell_type": "code",
   "execution_count": 69,
   "id": "4c910c30",
   "metadata": {},
   "outputs": [
    {
     "name": "stdout",
     "output_type": "stream",
     "text": [
      "[1, 1, 2, 3, 4, 5, 6, 9]\n"
     ]
    }
   ],
   "source": [
    "list1 = [3, 1, 4, 1]\n",
    "list2 = [5, 9, 2, 6]\n",
    "\n",
    "merged_list = list1 + list2\n",
    "merged_list.sort()\n",
    "print(merged_list)\n"
   ]
  },
  {
   "cell_type": "markdown",
   "id": "70e0539b",
   "metadata": {},
   "source": [
    "# Q43: Create a List of Even Numbers from 1 to 20"
   ]
  },
  {
   "cell_type": "code",
   "execution_count": 70,
   "id": "f4e36fa3",
   "metadata": {},
   "outputs": [
    {
     "name": "stdout",
     "output_type": "stream",
     "text": [
      "[2, 4, 6, 8, 10, 12, 14, 16, 18, 20]\n"
     ]
    }
   ],
   "source": [
    "even_numbers = [i for i in range(1, 21) if i % 2 == 0]\n",
    "print(even_numbers)\n"
   ]
  },
  {
   "cell_type": "markdown",
   "id": "b50ee76c",
   "metadata": {},
   "source": [
    "# Q44: Remove Duplicates from a List"
   ]
  },
  {
   "cell_type": "code",
   "execution_count": 71,
   "id": "1168c354",
   "metadata": {},
   "outputs": [
    {
     "name": "stdout",
     "output_type": "stream",
     "text": [
      "[1, 2, 3, 4, 5]\n"
     ]
    }
   ],
   "source": [
    "numbers = [1, 2, 3, 4, 5, 1, 2, 3]\n",
    "unique_numbers = list(set(numbers))\n",
    "print(unique_numbers)\n"
   ]
  },
  {
   "cell_type": "markdown",
   "id": "87f3e8f6",
   "metadata": {},
   "source": [
    "# Q45: Print a Right-Angled Triangle Pattern"
   ]
  },
  {
   "cell_type": "code",
   "execution_count": 72,
   "id": "73e6c7c9",
   "metadata": {},
   "outputs": [
    {
     "name": "stdout",
     "output_type": "stream",
     "text": [
      "Enter the number of rows: 5\n",
      "*\n",
      "**\n",
      "***\n",
      "****\n",
      "*****\n"
     ]
    }
   ],
   "source": [
    "rows = int(input(\"Enter the number of rows: \"))\n",
    "for i in range(1, rows + 1):\n",
    "    print(\"*\" * i)\n"
   ]
  },
  {
   "cell_type": "markdown",
   "id": "6f96d439",
   "metadata": {},
   "source": [
    "# Q46: Count the Occurrences of Each Word in a Sentence"
   ]
  },
  {
   "cell_type": "code",
   "execution_count": 74,
   "id": "1cea9c45",
   "metadata": {},
   "outputs": [
    {
     "name": "stdout",
     "output_type": "stream",
     "text": [
      "Enter a sentence: snehal raju kawade\n",
      "{'snehal': 1, 'raju': 1, 'kawade': 1}\n"
     ]
    }
   ],
   "source": [
    "sentence = input(\"Enter a sentence: \").lower()\n",
    "words = sentence.split()\n",
    "\n",
    "word_count = {}\n",
    "for word in words:\n",
    "    if word in word_count:\n",
    "        word_count[word] += 1\n",
    "    else:\n",
    "        word_count[word] = 1\n",
    "\n",
    "print(word_count)\n"
   ]
  },
  {
   "cell_type": "markdown",
   "id": "7b7137be",
   "metadata": {},
   "source": [
    "# Q47: Convert a String to a List of Characters"
   ]
  },
  {
   "cell_type": "code",
   "execution_count": 76,
   "id": "ae199147",
   "metadata": {},
   "outputs": [
    {
     "name": "stdout",
     "output_type": "stream",
     "text": [
      "Enter a string: snehal\n",
      "['s', 'n', 'e', 'h', 'a', 'l']\n"
     ]
    }
   ],
   "source": [
    "string = input(\"Enter a string: \")\n",
    "char_list = list(string)\n",
    "print(char_list)\n"
   ]
  },
  {
   "cell_type": "markdown",
   "id": "6dc4e2c4",
   "metadata": {},
   "source": [
    "# Q48: Sum of Even Numbers in a List"
   ]
  },
  {
   "cell_type": "code",
   "execution_count": 77,
   "id": "7fc33ed1",
   "metadata": {},
   "outputs": [
    {
     "name": "stdout",
     "output_type": "stream",
     "text": [
      "The sum of even numbers is 12\n"
     ]
    }
   ],
   "source": [
    "numbers = [1, 2, 3, 4, 5, 6]\n",
    "even_sum = sum(num for num in numbers if num % 2 == 0)\n",
    "print(f\"The sum of even numbers is {even_sum}\")\n"
   ]
  },
  {
   "cell_type": "markdown",
   "id": "c5e43a22",
   "metadata": {},
   "source": [
    "# Q49: Find the Intersection of Two Lists\n",
    "\n"
   ]
  },
  {
   "cell_type": "code",
   "execution_count": 79,
   "id": "71196ee2",
   "metadata": {},
   "outputs": [
    {
     "name": "stdout",
     "output_type": "stream",
     "text": [
      "[4, 5]\n"
     ]
    }
   ],
   "source": [
    "list1 = [1, 2, 3, 4, 5]\n",
    "list2 = [4, 5, 6, 7, 8]\n",
    "\n",
    "intersection = [num for num in list1 if num in list2]\n",
    "print(intersection)\n"
   ]
  },
  {
   "cell_type": "markdown",
   "id": "a10605c7",
   "metadata": {},
   "source": [
    "# Q50: Remove All Occurrences of a Specific Element from a List\n",
    "\n",
    "\n"
   ]
  },
  {
   "cell_type": "code",
   "execution_count": 80,
   "id": "74c6b8fd",
   "metadata": {},
   "outputs": [
    {
     "name": "stdout",
     "output_type": "stream",
     "text": [
      "Enter the element to remove: 2\n",
      "[1, 3, 4, 5, 6]\n"
     ]
    }
   ],
   "source": [
    "numbers = [1, 2, 3, 4, 5, 2, 6, 2]\n",
    "element = int(input(\"Enter the element to remove: \"))\n",
    "\n",
    "numbers = [num for num in numbers if num != element]\n",
    "print(numbers)\n"
   ]
  },
  {
   "cell_type": "markdown",
   "id": "c3be3244",
   "metadata": {},
   "source": [
    "# Q51: Check if a Number is Perfect"
   ]
  },
  {
   "cell_type": "code",
   "execution_count": 82,
   "id": "25b98e1a",
   "metadata": {},
   "outputs": [
    {
     "name": "stdout",
     "output_type": "stream",
     "text": [
      "Enter a number: 28\n",
      "28 is a perfect number\n"
     ]
    }
   ],
   "source": [
    "num = int(input(\"Enter a number: \"))\n",
    "sum_divisors = 0\n",
    "\n",
    "for i in range(1, num):\n",
    "    if num % i == 0:\n",
    "        sum_divisors += i\n",
    "\n",
    "if sum_divisors == num:\n",
    "    print(f\"{num} is a perfect number\")\n",
    "else:\n",
    "    print(f\"{num} is not a perfect number\")\n"
   ]
  },
  {
   "cell_type": "markdown",
   "id": "7e22c256",
   "metadata": {},
   "source": [
    "# Q52: Remove Whitespaces from a String"
   ]
  },
  {
   "cell_type": "code",
   "execution_count": 83,
   "id": "4290d1de",
   "metadata": {},
   "outputs": [
    {
     "name": "stdout",
     "output_type": "stream",
     "text": [
      "Enter a string: snehal kawade\n",
      "String without spaces: snehalkawade\n"
     ]
    }
   ],
   "source": [
    "str1 = input(\"Enter a string: \")\n",
    "no_spaces = str1.replace(\" \", \"\")\n",
    "print(f\"String without spaces: {no_spaces}\")\n"
   ]
  },
  {
   "cell_type": "markdown",
   "id": "fabc2c3e",
   "metadata": {},
   "source": [
    "# Q53: Reverse a List"
   ]
  },
  {
   "cell_type": "code",
   "execution_count": 84,
   "id": "8919c7c1",
   "metadata": {},
   "outputs": [
    {
     "name": "stdout",
     "output_type": "stream",
     "text": [
      "[5, 4, 3, 2, 1]\n"
     ]
    }
   ],
   "source": [
    "lst = [1, 2, 3, 4, 5]\n",
    "reversed_lst = lst[::-1]\n",
    "print(reversed_lst)\n"
   ]
  },
  {
   "cell_type": "markdown",
   "id": "62b9230b",
   "metadata": {},
   "source": [
    "# Q54: Check if Two Lists are Equal"
   ]
  },
  {
   "cell_type": "code",
   "execution_count": 85,
   "id": "0f2f4c9f",
   "metadata": {},
   "outputs": [
    {
     "name": "stdout",
     "output_type": "stream",
     "text": [
      "Both lists are equal\n"
     ]
    }
   ],
   "source": [
    "list1 = [1, 2, 3, 4]\n",
    "list2 = [1, 2, 3, 4]\n",
    "\n",
    "if list1 == list2:\n",
    "    print(\"Both lists are equal\")\n",
    "else:\n",
    "    print(\"Lists are not equal\")\n"
   ]
  },
  {
   "cell_type": "markdown",
   "id": "4b9d4dcc",
   "metadata": {},
   "source": [
    "# Q55: Find the Longest Word in a Sentence\n",
    "\\\n"
   ]
  },
  {
   "cell_type": "code",
   "execution_count": 86,
   "id": "39cd7a86",
   "metadata": {},
   "outputs": [
    {
     "name": "stdout",
     "output_type": "stream",
     "text": [
      "Enter a sentence:  snehal kawade raju \n",
      "The longest word is: snehal\n"
     ]
    }
   ],
   "source": [
    "sentence = input(\"Enter a sentence: \").split()\n",
    "longest_word = max(sentence, key=len)\n",
    "print(f\"The longest word is: {longest_word}\")\n"
   ]
  },
  {
   "cell_type": "markdown",
   "id": "d2c413aa",
   "metadata": {},
   "source": [
    "# Q56:Multiplying 1 to 10 using a simple loop"
   ]
  },
  {
   "cell_type": "code",
   "execution_count": 88,
   "id": "e193d346",
   "metadata": {},
   "outputs": [
    {
     "name": "stdout",
     "output_type": "stream",
     "text": [
      "1 * 5 = 5\n",
      "2 * 5 = 10\n",
      "3 * 5 = 15\n",
      "4 * 5 = 20\n",
      "5 * 5 = 25\n",
      "6 * 5 = 30\n",
      "7 * 5 = 35\n",
      "8 * 5 = 40\n",
      "9 * 5 = 45\n",
      "10 * 5 = 50\n"
     ]
    }
   ],
   "source": [
    "# Multiplying 1 to 10 using a while loop\n",
    "i = 1\n",
    "while i <= 10:\n",
    "    result = i * 5  # Multiplying each number by 5\n",
    "    print(f\"{i} * 5 = {result}\")\n",
    "    i += 1\n"
   ]
  },
  {
   "cell_type": "code",
   "execution_count": 89,
   "id": "355fb519",
   "metadata": {},
   "outputs": [
    {
     "name": "stdout",
     "output_type": "stream",
     "text": [
      "[5, 10, 15, 20, 25, 30, 35, 40, 45, 50]\n"
     ]
    }
   ],
   "source": [
    "# Multiplying 1 to 10 using list comprehension\n",
    "numbers = [i * 5 for i in range(1, 11)]\n",
    "print(numbers)\n"
   ]
  },
  {
   "cell_type": "code",
   "execution_count": 90,
   "id": "f3f25c52",
   "metadata": {},
   "outputs": [
    {
     "name": "stdout",
     "output_type": "stream",
     "text": [
      "1 * 5 = 5\n",
      "2 * 5 = 10\n",
      "3 * 5 = 15\n",
      "4 * 5 = 20\n",
      "5 * 5 = 25\n",
      "6 * 5 = 30\n",
      "7 * 5 = 35\n",
      "8 * 5 = 40\n",
      "9 * 5 = 45\n",
      "10 * 5 = 50\n"
     ]
    }
   ],
   "source": [
    "# Function to multiply numbers from 1 to 10 by a given multiplier\n",
    "def multiply_range(multiplier):\n",
    "    for i in range(1, 11):\n",
    "        print(f\"{i} * {multiplier} = {i * multiplier}\")\n",
    "\n",
    "# Call the function with multiplier 5\n",
    "multiply_range(5)\n"
   ]
  },
  {
   "cell_type": "code",
   "execution_count": 91,
   "id": "a4d9c3dd",
   "metadata": {},
   "outputs": [
    {
     "name": "stdout",
     "output_type": "stream",
     "text": [
      "1 * 5 = 5\n",
      "2 * 5 = 10\n",
      "3 * 5 = 15\n",
      "4 * 5 = 20\n",
      "5 * 5 = 25\n",
      "6 * 5 = 30\n",
      "7 * 5 = 35\n",
      "8 * 5 = 40\n",
      "9 * 5 = 45\n",
      "10 * 5 = 50\n"
     ]
    }
   ],
   "source": [
    "# Recursive function to print the result of multiplying 1 to 10 by 5\n",
    "def multiply_recursive(i, multiplier):\n",
    "    if i > 10:\n",
    "        return\n",
    "    print(f\"{i} * {multiplier} = {i * multiplier}\")\n",
    "    multiply_recursive(i + 1, multiplier)\n",
    "\n",
    "# Call the function with starting number 1 and multiplier 5\n",
    "multiply_recursive(1, 5)\n"
   ]
  },
  {
   "cell_type": "code",
   "execution_count": null,
   "id": "dd7fd334",
   "metadata": {},
   "outputs": [],
   "source": []
  }
 ],
 "metadata": {
  "kernelspec": {
   "display_name": "Python 3 (ipykernel)",
   "language": "python",
   "name": "python3"
  },
  "language_info": {
   "codemirror_mode": {
    "name": "ipython",
    "version": 3
   },
   "file_extension": ".py",
   "mimetype": "text/x-python",
   "name": "python",
   "nbconvert_exporter": "python",
   "pygments_lexer": "ipython3",
   "version": "3.9.12"
  }
 },
 "nbformat": 4,
 "nbformat_minor": 5
}
